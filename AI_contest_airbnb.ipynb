{
 "cells": [
  {
   "cell_type": "markdown",
   "metadata": {},
   "source": [
    "# Download CSV\n",
    "\n",
    "\n",
    "https://www.airbnb.com.tw/users/transaction_history#gross-earnings\n",
    "\n",
    "https://www.airbnb.com.tw/users/transaction_history"
   ]
  },
  {
   "cell_type": "code",
   "execution_count": 7,
   "metadata": {},
   "outputs": [],
   "source": [
    "import pandas as pd\n",
    "import numpy as np\n",
    "import datetime"
   ]
  },
  {
   "cell_type": "code",
   "execution_count": 8,
   "metadata": {},
   "outputs": [],
   "source": [
    "data = pd.read_csv('/Users/chingtien/downloads/History.csv', parse_dates=['Date'])\n",
    "data = data.drop(columns = ['Confirmation Code','Guest','Listing', 'Details', 'Reference'], axis = 1)"
   ]
  },
  {
   "cell_type": "code",
   "execution_count": 9,
   "metadata": {},
   "outputs": [],
   "source": [
    "data['Date'] = pd.to_datetime(data['Date'])\n",
    "data = data.fillna(0)\n",
    "data['Weekday'] = data['Date'].dt.dayofweek\n",
    "data['Weekday'].astype('str').astype('int')\n",
    "data['Nights'] = data['Nights'].astype('int')\n",
    "for i in range(1,8):\n",
    "    data[i] = 0\n",
    "\n",
    "data.head(20)\n",
    "\n",
    "def setElapsedWeekDays(x):\n",
    "    for i in range(1,8):\n",
    "            x[i] = 0  \n",
    "    if x['Nights'] >=7 : \n",
    "        for i in range(1,8):\n",
    "            x[i] = 1\n",
    "    else: \n",
    "        for i in range(x['Nights']):\n",
    "            x[x['Weekday']+i] = 1 \n",
    "    \n",
    "    return x \n",
    "        \n",
    "\n",
    "data = data.apply(setElapsedWeekDays, axis=1)\n",
    "\n",
    "\n"
   ]
  },
  {
   "cell_type": "code",
   "execution_count": 16,
   "metadata": {},
   "outputs": [
    {
     "name": "stdout",
     "output_type": "stream",
     "text": [
      "你總共付給 Airbnb 新台幣： 5284.67\n"
     ]
    }
   ],
   "source": [
    "Total = data['Host Fee'].sum()\n",
    "income = data['Amount'].sum()\n",
    "day = data['Date']\n",
    "#print (\"Airbnb 幫你賺了新台幣：\",income)\n",
    "print (\"你總共付給 Airbnb 新台幣：\",Total)"
   ]
  },
  {
   "cell_type": "code",
   "execution_count": 17,
   "metadata": {},
   "outputs": [
    {
     "data": {
      "text/html": [
       "<div>\n",
       "<style scoped>\n",
       "    .dataframe tbody tr th:only-of-type {\n",
       "        vertical-align: middle;\n",
       "    }\n",
       "\n",
       "    .dataframe tbody tr th {\n",
       "        vertical-align: top;\n",
       "    }\n",
       "\n",
       "    .dataframe thead th {\n",
       "        text-align: right;\n",
       "    }\n",
       "</style>\n",
       "<table border=\"1\" class=\"dataframe\">\n",
       "  <thead>\n",
       "    <tr style=\"text-align: right;\">\n",
       "      <th></th>\n",
       "      <th>Date</th>\n",
       "      <th>Type</th>\n",
       "      <th>Start Date</th>\n",
       "      <th>Nights</th>\n",
       "      <th>Currency</th>\n",
       "      <th>Amount</th>\n",
       "      <th>Paid Out</th>\n",
       "      <th>Host Fee</th>\n",
       "      <th>Cleaning Fee</th>\n",
       "      <th>Weekday</th>\n",
       "      <th>Mon</th>\n",
       "      <th>Tue</th>\n",
       "      <th>Wed</th>\n",
       "      <th>Thu</th>\n",
       "      <th>Fri</th>\n",
       "      <th>Sat</th>\n",
       "      <th>Sun</th>\n",
       "    </tr>\n",
       "  </thead>\n",
       "  <tbody>\n",
       "    <tr>\n",
       "      <th>0</th>\n",
       "      <td>2020-10-01 00:00:00</td>\n",
       "      <td>Payout</td>\n",
       "      <td>0</td>\n",
       "      <td>0</td>\n",
       "      <td>AUD</td>\n",
       "      <td>0.00</td>\n",
       "      <td>144.75</td>\n",
       "      <td>0.00</td>\n",
       "      <td>0.0</td>\n",
       "      <td>3</td>\n",
       "      <td>0</td>\n",
       "      <td>0</td>\n",
       "      <td>0</td>\n",
       "      <td>0</td>\n",
       "      <td>0</td>\n",
       "      <td>0</td>\n",
       "      <td>0</td>\n",
       "    </tr>\n",
       "    <tr>\n",
       "      <th>1</th>\n",
       "      <td>2020-10-01 00:00:00</td>\n",
       "      <td>Reservation</td>\n",
       "      <td>9/30/2020</td>\n",
       "      <td>4</td>\n",
       "      <td>TWD</td>\n",
       "      <td>2993.83</td>\n",
       "      <td>0.00</td>\n",
       "      <td>102.17</td>\n",
       "      <td>0.0</td>\n",
       "      <td>3</td>\n",
       "      <td>0</td>\n",
       "      <td>0</td>\n",
       "      <td>1</td>\n",
       "      <td>1</td>\n",
       "      <td>1</td>\n",
       "      <td>1</td>\n",
       "      <td>0</td>\n",
       "    </tr>\n",
       "    <tr>\n",
       "      <th>2</th>\n",
       "      <td>2020-09-27 00:00:00</td>\n",
       "      <td>Payout</td>\n",
       "      <td>0</td>\n",
       "      <td>0</td>\n",
       "      <td>AUD</td>\n",
       "      <td>0.00</td>\n",
       "      <td>41.28</td>\n",
       "      <td>0.00</td>\n",
       "      <td>0.0</td>\n",
       "      <td>6</td>\n",
       "      <td>0</td>\n",
       "      <td>0</td>\n",
       "      <td>0</td>\n",
       "      <td>0</td>\n",
       "      <td>0</td>\n",
       "      <td>0</td>\n",
       "      <td>0</td>\n",
       "    </tr>\n",
       "    <tr>\n",
       "      <th>3</th>\n",
       "      <td>2020-09-27 00:00:00</td>\n",
       "      <td>Reservation</td>\n",
       "      <td>9/26/2020</td>\n",
       "      <td>1</td>\n",
       "      <td>TWD</td>\n",
       "      <td>849.41</td>\n",
       "      <td>0.00</td>\n",
       "      <td>28.99</td>\n",
       "      <td>0.0</td>\n",
       "      <td>6</td>\n",
       "      <td>0</td>\n",
       "      <td>0</td>\n",
       "      <td>0</td>\n",
       "      <td>0</td>\n",
       "      <td>0</td>\n",
       "      <td>1</td>\n",
       "      <td>0</td>\n",
       "    </tr>\n",
       "    <tr>\n",
       "      <th>4</th>\n",
       "      <td>2020-09-06 00:00:00</td>\n",
       "      <td>Payout</td>\n",
       "      <td>0</td>\n",
       "      <td>0</td>\n",
       "      <td>AUD</td>\n",
       "      <td>0.00</td>\n",
       "      <td>629.48</td>\n",
       "      <td>0.00</td>\n",
       "      <td>0.0</td>\n",
       "      <td>6</td>\n",
       "      <td>0</td>\n",
       "      <td>0</td>\n",
       "      <td>0</td>\n",
       "      <td>0</td>\n",
       "      <td>0</td>\n",
       "      <td>0</td>\n",
       "      <td>0</td>\n",
       "    </tr>\n",
       "  </tbody>\n",
       "</table>\n",
       "</div>"
      ],
      "text/plain": [
       "                  Date         Type Start Date  Nights Currency   Amount  \\\n",
       "0  2020-10-01 00:00:00       Payout          0       0      AUD     0.00   \n",
       "1  2020-10-01 00:00:00  Reservation  9/30/2020       4      TWD  2993.83   \n",
       "2  2020-09-27 00:00:00       Payout          0       0      AUD     0.00   \n",
       "3  2020-09-27 00:00:00  Reservation  9/26/2020       1      TWD   849.41   \n",
       "4  2020-09-06 00:00:00       Payout          0       0      AUD     0.00   \n",
       "\n",
       "   Paid Out  Host Fee  Cleaning Fee  Weekday  Mon  Tue  Wed  Thu  Fri  Sat  \\\n",
       "0    144.75      0.00           0.0        3    0    0    0    0    0    0   \n",
       "1      0.00    102.17           0.0        3    0    0    1    1    1    1   \n",
       "2     41.28      0.00           0.0        6    0    0    0    0    0    0   \n",
       "3      0.00     28.99           0.0        6    0    0    0    0    0    1   \n",
       "4    629.48      0.00           0.0        6    0    0    0    0    0    0   \n",
       "\n",
       "   Sun  \n",
       "0    0  \n",
       "1    0  \n",
       "2    0  \n",
       "3    0  \n",
       "4    0  "
      ]
     },
     "execution_count": 17,
     "metadata": {},
     "output_type": "execute_result"
    }
   ],
   "source": [
    "data.head()"
   ]
  },
  {
   "cell_type": "code",
   "execution_count": 20,
   "metadata": {
    "scrolled": true
   },
   "outputs": [
    {
     "data": {
      "text/plain": [
       "Nights            0.913043\n",
       "Amount          769.475700\n",
       "Paid Out         38.180145\n",
       "Host Fee         25.529807\n",
       "Cleaning Fee      0.004831\n",
       "Weekday           3.700483\n",
       "Mon               0.062802\n",
       "Tue               0.086957\n",
       "Wed               0.091787\n",
       "Thu               0.106280\n",
       "Fri               0.169082\n",
       "Sat               0.188406\n",
       "Sun               0.067633\n",
       "dtype: float64"
      ]
     },
     "execution_count": 20,
     "metadata": {},
     "output_type": "execute_result"
    }
   ],
   "source": [
    "data.mean()"
   ]
  },
  {
   "cell_type": "code",
   "execution_count": null,
   "metadata": {},
   "outputs": [],
   "source": [
    "data.sum(axis = 0) "
   ]
  }
 ],
 "metadata": {
  "kernelspec": {
   "display_name": "Python 3",
   "language": "python",
   "name": "python3"
  },
  "language_info": {
   "codemirror_mode": {
    "name": "ipython",
    "version": 3
   },
   "file_extension": ".py",
   "mimetype": "text/x-python",
   "name": "python",
   "nbconvert_exporter": "python",
   "pygments_lexer": "ipython3",
   "version": "3.8.3"
  }
 },
 "nbformat": 4,
 "nbformat_minor": 4
}
